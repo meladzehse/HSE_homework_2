{
 "cells": [
  {
   "cell_type": "markdown",
   "metadata": {},
   "source": [
    "# Trending YouTube Video Statistics"
   ]
  },
  {
   "cell_type": "markdown",
   "metadata": {},
   "source": [
    "### В этом ноутбуке я исследовал датасет \"Trending YouTube...\" на разные статистические показатели "
   ]
  },
  {
   "cell_type": "code",
   "execution_count": 1,
   "metadata": {},
   "outputs": [],
   "source": [
    "import numpy as np\n",
    "import pandas as pd\n",
    "import matplotlib.pyplot as plt\n",
    "import seaborn as sns\n",
    "import json"
   ]
  },
  {
   "cell_type": "markdown",
   "metadata": {},
   "source": [
    "### Для начала посмотрим на различные показатели на примере данных одной страны"
   ]
  },
  {
   "cell_type": "code",
   "execution_count": 2,
   "metadata": {},
   "outputs": [],
   "source": [
    "ru = pd.read_csv(r'C:\\Users\\polia\\ananahui\\youtube\\RUvideos.csv', engine='python')"
   ]
  },
  {
   "cell_type": "markdown",
   "metadata": {},
   "source": [
    "###### Проверим, все ли в порядке с файлом"
   ]
  },
  {
   "cell_type": "code",
   "execution_count": 3,
   "metadata": {},
   "outputs": [
    {
     "data": {
      "text/html": [
       "<div>\n",
       "<style scoped>\n",
       "    .dataframe tbody tr th:only-of-type {\n",
       "        vertical-align: middle;\n",
       "    }\n",
       "\n",
       "    .dataframe tbody tr th {\n",
       "        vertical-align: top;\n",
       "    }\n",
       "\n",
       "    .dataframe thead th {\n",
       "        text-align: right;\n",
       "    }\n",
       "</style>\n",
       "<table border=\"1\" class=\"dataframe\">\n",
       "  <thead>\n",
       "    <tr style=\"text-align: right;\">\n",
       "      <th></th>\n",
       "      <th>video_id</th>\n",
       "      <th>trending_date</th>\n",
       "      <th>title</th>\n",
       "      <th>channel_title</th>\n",
       "      <th>category_id</th>\n",
       "      <th>publish_time</th>\n",
       "      <th>tags</th>\n",
       "      <th>views</th>\n",
       "      <th>likes</th>\n",
       "      <th>dislikes</th>\n",
       "      <th>comment_count</th>\n",
       "      <th>thumbnail_link</th>\n",
       "      <th>comments_disabled</th>\n",
       "      <th>ratings_disabled</th>\n",
       "      <th>video_error_or_removed</th>\n",
       "      <th>description</th>\n",
       "    </tr>\n",
       "  </thead>\n",
       "  <tbody>\n",
       "    <tr>\n",
       "      <td>0</td>\n",
       "      <td>gDuslQ9avLc</td>\n",
       "      <td>17.14.11</td>\n",
       "      <td>Р—Р°С…Р°СЂ Рё РџРѕР»РёРЅР° СѓС‡Р°С‚СЃСЏ СЌРєРѕ...</td>\n",
       "      <td>РўвЂ”Р– Р‘РћР“РђР§</td>\n",
       "      <td>22</td>\n",
       "      <td>2017-11-13T09:09:31.000Z</td>\n",
       "      <td>Р·Р°С…Р°СЂ Рё РїРѕР»РёРЅР°|\"СѓС‡РёРјСЃСЏ СЌРєР...</td>\n",
       "      <td>62408</td>\n",
       "      <td>334</td>\n",
       "      <td>190</td>\n",
       "      <td>50</td>\n",
       "      <td>https://i.ytimg.com/vi/gDuslQ9avLc/default.jpg</td>\n",
       "      <td>False</td>\n",
       "      <td>False</td>\n",
       "      <td>False</td>\n",
       "      <td>Р—РЅР°РєРѕРјСЊС‚РµСЃСЊ, СЌС‚Рѕ Р—Р°С…Р°СЂ Рё Р...</td>\n",
       "    </tr>\n",
       "    <tr>\n",
       "      <td>1</td>\n",
       "      <td>AOCJIFEA_jE</td>\n",
       "      <td>17.14.11</td>\n",
       "      <td>Р‘РёСЂР¶Р° РњРµРјРѕРІ #29. Р‘РѕР»СЊС€РѕРёМ† РІ...</td>\n",
       "      <td>Druzhko Show</td>\n",
       "      <td>22</td>\n",
       "      <td>2017-11-13T17:32:11.000Z</td>\n",
       "      <td>Р±РёСЂР¶Р° РјРµРјРѕРІ|\"Р»РµРІ С€Р°РіРёРЅСЏРЅ\"|...</td>\n",
       "      <td>330043</td>\n",
       "      <td>43841</td>\n",
       "      <td>2244</td>\n",
       "      <td>2977</td>\n",
       "      <td>https://i.ytimg.com/vi/AOCJIFEA_jE/default.jpg</td>\n",
       "      <td>False</td>\n",
       "      <td>False</td>\n",
       "      <td>False</td>\n",
       "      <td>Р’ 29 РІС‹РїСѓСЃРєРµ Р”СЂСѓР¶РєРѕ РЁРѕСѓ РЎРµС...</td>\n",
       "    </tr>\n",
       "    <tr>\n",
       "      <td>2</td>\n",
       "      <td>VAWNQDgwwOM</td>\n",
       "      <td>17.14.11</td>\n",
       "      <td>РҐРђР™Рџ РљР­РњРџ - РЎР’РћР™ РЎР Р•Р”Р� Р§РЈР–...</td>\n",
       "      <td>Р®Р»РёРє</td>\n",
       "      <td>24</td>\n",
       "      <td>2017-11-13T16:11:31.000Z</td>\n",
       "      <td>СЋРјРѕСЂ|\"РєРѕРјРµРґРёСЏ\"|\"РІР»РѕРі\"|\"Р±Р»РѕРі...</td>\n",
       "      <td>424596</td>\n",
       "      <td>49854</td>\n",
       "      <td>714</td>\n",
       "      <td>2944</td>\n",
       "      <td>https://i.ytimg.com/vi/VAWNQDgwwOM/default.jpg</td>\n",
       "      <td>False</td>\n",
       "      <td>False</td>\n",
       "      <td>False</td>\n",
       "      <td>http://kapitany.ru/!Yulik.cap - Р¤Р°РєСѓР»СЊС‚...</td>\n",
       "    </tr>\n",
       "    <tr>\n",
       "      <td>3</td>\n",
       "      <td>gknkFwKQfHg</td>\n",
       "      <td>17.14.11</td>\n",
       "      <td>РЎРѕС‡РЅР°СЏ РєРµСЃР°РґРёР»СЊСЏ СЃ РєСѓСЂРёС†РµР№</td>\n",
       "      <td>Hochland</td>\n",
       "      <td>22</td>\n",
       "      <td>2017-11-13T06:51:10.000Z</td>\n",
       "      <td>С…РѕС…Р»Р°РЅРґ|\"СЃС‹СЂ\"|\"СЂРµС†РµРїС‚С‹\"|\"РєР°...</td>\n",
       "      <td>112851</td>\n",
       "      <td>3566</td>\n",
       "      <td>122</td>\n",
       "      <td>80</td>\n",
       "      <td>https://i.ytimg.com/vi/gknkFwKQfHg/default.jpg</td>\n",
       "      <td>False</td>\n",
       "      <td>False</td>\n",
       "      <td>False</td>\n",
       "      <td>*** РєР°Рє РіРѕС‚РѕРІРёС‚СЊ СЂРµСЃС‚РѕСЂР°РЅРЅ...</td>\n",
       "    </tr>\n",
       "    <tr>\n",
       "      <td>4</td>\n",
       "      <td>3sYvZcwzZr8</td>\n",
       "      <td>17.14.11</td>\n",
       "      <td>РљР›Р�РџР« Р РћР”Р�РўР•Р›Р•Р™ РќРђ РЁРљРћР›Р¬Р...</td>\n",
       "      <td>РЎРѕРІРµСЂРіРѕРЅ</td>\n",
       "      <td>24</td>\n",
       "      <td>2017-11-13T16:52:36.000Z</td>\n",
       "      <td>РЎРѕРІРµСЂРіРѕРЅ|\"Sovergon\"|\"РєР»РёРїС‹\"|\"СЂРѕ...</td>\n",
       "      <td>243469</td>\n",
       "      <td>36216</td>\n",
       "      <td>631</td>\n",
       "      <td>1692</td>\n",
       "      <td>https://i.ytimg.com/vi/3sYvZcwzZr8/default.jpg</td>\n",
       "      <td>False</td>\n",
       "      <td>False</td>\n",
       "      <td>False</td>\n",
       "      <td>вќЏ РљРћРќРљРЈР РЎ РљРђРџР�РўРђРќР«: http://ka...</td>\n",
       "    </tr>\n",
       "  </tbody>\n",
       "</table>\n",
       "</div>"
      ],
      "text/plain": [
       "      video_id trending_date  \\\n",
       "0  gDuslQ9avLc      17.14.11   \n",
       "1  AOCJIFEA_jE      17.14.11   \n",
       "2  VAWNQDgwwOM      17.14.11   \n",
       "3  gknkFwKQfHg      17.14.11   \n",
       "4  3sYvZcwzZr8      17.14.11   \n",
       "\n",
       "                                               title       channel_title  \\\n",
       "0  Р—Р°С…Р°СЂ Рё РџРѕР»РёРЅР° СѓС‡Р°С‚СЃСЏ СЌРєРѕ...  РўвЂ”Р– Р‘РћР“РђР§   \n",
       "1  Р‘РёСЂР¶Р° РњРµРјРѕРІ #29. Р‘РѕР»СЊС€РѕРёМ† РІ...        Druzhko Show   \n",
       "2  РҐРђР™Рџ РљР­РњРџ - РЎР’РћР™ РЎР Р•Р”Р� Р§РЈР–...            Р®Р»РёРє   \n",
       "3  РЎРѕС‡РЅР°СЏ РєРµСЃР°РґРёР»СЊСЏ СЃ РєСѓСЂРёС†РµР№            Hochland   \n",
       "4  РљР›Р�РџР« Р РћР”Р�РўР•Р›Р•Р™ РќРђ РЁРљРћР›Р¬Р...    РЎРѕРІРµСЂРіРѕРЅ   \n",
       "\n",
       "   category_id              publish_time  \\\n",
       "0           22  2017-11-13T09:09:31.000Z   \n",
       "1           22  2017-11-13T17:32:11.000Z   \n",
       "2           24  2017-11-13T16:11:31.000Z   \n",
       "3           22  2017-11-13T06:51:10.000Z   \n",
       "4           24  2017-11-13T16:52:36.000Z   \n",
       "\n",
       "                                                tags   views  likes  dislikes  \\\n",
       "0  Р·Р°С…Р°СЂ Рё РїРѕР»РёРЅР°|\"СѓС‡РёРјСЃСЏ СЌРєР...   62408    334       190   \n",
       "1  Р±РёСЂР¶Р° РјРµРјРѕРІ|\"Р»РµРІ С€Р°РіРёРЅСЏРЅ\"|...  330043  43841      2244   \n",
       "2  СЋРјРѕСЂ|\"РєРѕРјРµРґРёСЏ\"|\"РІР»РѕРі\"|\"Р±Р»РѕРі...  424596  49854       714   \n",
       "3  С…РѕС…Р»Р°РЅРґ|\"СЃС‹СЂ\"|\"СЂРµС†РµРїС‚С‹\"|\"РєР°...  112851   3566       122   \n",
       "4  РЎРѕРІРµСЂРіРѕРЅ|\"Sovergon\"|\"РєР»РёРїС‹\"|\"СЂРѕ...  243469  36216       631   \n",
       "\n",
       "   comment_count                                  thumbnail_link  \\\n",
       "0             50  https://i.ytimg.com/vi/gDuslQ9avLc/default.jpg   \n",
       "1           2977  https://i.ytimg.com/vi/AOCJIFEA_jE/default.jpg   \n",
       "2           2944  https://i.ytimg.com/vi/VAWNQDgwwOM/default.jpg   \n",
       "3             80  https://i.ytimg.com/vi/gknkFwKQfHg/default.jpg   \n",
       "4           1692  https://i.ytimg.com/vi/3sYvZcwzZr8/default.jpg   \n",
       "\n",
       "   comments_disabled  ratings_disabled  video_error_or_removed  \\\n",
       "0              False             False                   False   \n",
       "1              False             False                   False   \n",
       "2              False             False                   False   \n",
       "3              False             False                   False   \n",
       "4              False             False                   False   \n",
       "\n",
       "                                         description  \n",
       "0  Р—РЅР°РєРѕРјСЊС‚РµСЃСЊ, СЌС‚Рѕ Р—Р°С…Р°СЂ Рё Р...  \n",
       "1  Р’ 29 РІС‹РїСѓСЃРєРµ Р”СЂСѓР¶РєРѕ РЁРѕСѓ РЎРµС...  \n",
       "2  http://kapitany.ru/!Yulik.cap - Р¤Р°РєСѓР»СЊС‚...  \n",
       "3  *** РєР°Рє РіРѕС‚РѕРІРёС‚СЊ СЂРµСЃС‚РѕСЂР°РЅРЅ...  \n",
       "4  вќЏ РљРћРќРљРЈР РЎ РљРђРџР�РўРђРќР«: http://ka...  "
      ]
     },
     "metadata": {},
     "output_type": "display_data"
    },
    {
     "name": "stdout",
     "output_type": "stream",
     "text": [
      "Index(['video_id', 'trending_date', 'title', 'channel_title', 'category_id',\n",
      "       'publish_time', 'tags', 'views', 'likes', 'dislikes', 'comment_count',\n",
      "       'thumbnail_link', 'comments_disabled', 'ratings_disabled',\n",
      "       'video_error_or_removed', 'description'],\n",
      "      dtype='object')\n"
     ]
    }
   ],
   "source": [
    "display(ru.head())\n",
    "print(ru.columns)"
   ]
  },
  {
   "cell_type": "markdown",
   "metadata": {},
   "source": [
    "###### Как мы видим, кодировка на некоторых файлах \"полетела\", поэтому придется обойтись без RUvideos, JPvideos, KRvideos и MXvideos"
   ]
  },
  {
   "cell_type": "code",
   "execution_count": 4,
   "metadata": {},
   "outputs": [
    {
     "data": {
      "text/html": [
       "<div>\n",
       "<style scoped>\n",
       "    .dataframe tbody tr th:only-of-type {\n",
       "        vertical-align: middle;\n",
       "    }\n",
       "\n",
       "    .dataframe tbody tr th {\n",
       "        vertical-align: top;\n",
       "    }\n",
       "\n",
       "    .dataframe thead th {\n",
       "        text-align: right;\n",
       "    }\n",
       "</style>\n",
       "<table border=\"1\" class=\"dataframe\">\n",
       "  <thead>\n",
       "    <tr style=\"text-align: right;\">\n",
       "      <th></th>\n",
       "      <th>video_id</th>\n",
       "      <th>trending_date</th>\n",
       "      <th>title</th>\n",
       "      <th>channel_title</th>\n",
       "      <th>category_id</th>\n",
       "      <th>publish_time</th>\n",
       "      <th>tags</th>\n",
       "      <th>views</th>\n",
       "      <th>likes</th>\n",
       "      <th>dislikes</th>\n",
       "      <th>comment_count</th>\n",
       "      <th>thumbnail_link</th>\n",
       "      <th>comments_disabled</th>\n",
       "      <th>ratings_disabled</th>\n",
       "      <th>video_error_or_removed</th>\n",
       "      <th>description</th>\n",
       "    </tr>\n",
       "  </thead>\n",
       "  <tbody>\n",
       "    <tr>\n",
       "      <td>0</td>\n",
       "      <td>Jw1Y-zhQURU</td>\n",
       "      <td>17.14.11</td>\n",
       "      <td>John Lewis Christmas Ad 2017 - #MozTheMonster</td>\n",
       "      <td>John Lewis</td>\n",
       "      <td>26</td>\n",
       "      <td>2017-11-10T07:38:29.000Z</td>\n",
       "      <td>christmas|\"john lewis christmas\"|\"john lewis\"|...</td>\n",
       "      <td>7224515</td>\n",
       "      <td>55681</td>\n",
       "      <td>10247</td>\n",
       "      <td>9479</td>\n",
       "      <td>https://i.ytimg.com/vi/Jw1Y-zhQURU/default.jpg</td>\n",
       "      <td>False</td>\n",
       "      <td>False</td>\n",
       "      <td>False</td>\n",
       "      <td>Click here to continue the story and make your...</td>\n",
       "    </tr>\n",
       "    <tr>\n",
       "      <td>1</td>\n",
       "      <td>3s1rvMFUweQ</td>\n",
       "      <td>17.14.11</td>\n",
       "      <td>Taylor Swift: …Ready for It? (Live) - SNL</td>\n",
       "      <td>Saturday Night Live</td>\n",
       "      <td>24</td>\n",
       "      <td>2017-11-12T06:24:44.000Z</td>\n",
       "      <td>SNL|\"Saturday Night Live\"|\"SNL Season 43\"|\"Epi...</td>\n",
       "      <td>1053632</td>\n",
       "      <td>25561</td>\n",
       "      <td>2294</td>\n",
       "      <td>2757</td>\n",
       "      <td>https://i.ytimg.com/vi/3s1rvMFUweQ/default.jpg</td>\n",
       "      <td>False</td>\n",
       "      <td>False</td>\n",
       "      <td>False</td>\n",
       "      <td>Musical guest Taylor Swift performs …Ready for...</td>\n",
       "    </tr>\n",
       "    <tr>\n",
       "      <td>2</td>\n",
       "      <td>n1WpP7iowLc</td>\n",
       "      <td>17.14.11</td>\n",
       "      <td>Eminem - Walk On Water (Audio) ft. Beyoncé</td>\n",
       "      <td>EminemVEVO</td>\n",
       "      <td>10</td>\n",
       "      <td>2017-11-10T17:00:03.000Z</td>\n",
       "      <td>Eminem|\"Walk\"|\"On\"|\"Water\"|\"Aftermath/Shady/In...</td>\n",
       "      <td>17158579</td>\n",
       "      <td>787420</td>\n",
       "      <td>43420</td>\n",
       "      <td>125882</td>\n",
       "      <td>https://i.ytimg.com/vi/n1WpP7iowLc/default.jpg</td>\n",
       "      <td>False</td>\n",
       "      <td>False</td>\n",
       "      <td>False</td>\n",
       "      <td>Eminem's new track Walk on Water ft. Beyoncé i...</td>\n",
       "    </tr>\n",
       "    <tr>\n",
       "      <td>3</td>\n",
       "      <td>PUTEiSjKwJU</td>\n",
       "      <td>17.14.11</td>\n",
       "      <td>Goals from Salford City vs Class of 92 and Fri...</td>\n",
       "      <td>Salford City Football Club</td>\n",
       "      <td>17</td>\n",
       "      <td>2017-11-13T02:30:38.000Z</td>\n",
       "      <td>Salford City FC|\"Salford City\"|\"Salford\"|\"Clas...</td>\n",
       "      <td>27833</td>\n",
       "      <td>193</td>\n",
       "      <td>12</td>\n",
       "      <td>37</td>\n",
       "      <td>https://i.ytimg.com/vi/PUTEiSjKwJU/default.jpg</td>\n",
       "      <td>False</td>\n",
       "      <td>False</td>\n",
       "      <td>False</td>\n",
       "      <td>Salford drew 4-4 against the Class of 92 and F...</td>\n",
       "    </tr>\n",
       "    <tr>\n",
       "      <td>4</td>\n",
       "      <td>rHwDegptbI4</td>\n",
       "      <td>17.14.11</td>\n",
       "      <td>Dashcam captures truck's near miss with child ...</td>\n",
       "      <td>Cute Girl Videos</td>\n",
       "      <td>25</td>\n",
       "      <td>2017-11-13T01:45:13.000Z</td>\n",
       "      <td>[none]</td>\n",
       "      <td>9815</td>\n",
       "      <td>30</td>\n",
       "      <td>2</td>\n",
       "      <td>30</td>\n",
       "      <td>https://i.ytimg.com/vi/rHwDegptbI4/default.jpg</td>\n",
       "      <td>False</td>\n",
       "      <td>False</td>\n",
       "      <td>False</td>\n",
       "      <td>Dashcam captures truck's near miss with child ...</td>\n",
       "    </tr>\n",
       "  </tbody>\n",
       "</table>\n",
       "</div>"
      ],
      "text/plain": [
       "      video_id trending_date  \\\n",
       "0  Jw1Y-zhQURU      17.14.11   \n",
       "1  3s1rvMFUweQ      17.14.11   \n",
       "2  n1WpP7iowLc      17.14.11   \n",
       "3  PUTEiSjKwJU      17.14.11   \n",
       "4  rHwDegptbI4      17.14.11   \n",
       "\n",
       "                                               title  \\\n",
       "0      John Lewis Christmas Ad 2017 - #MozTheMonster   \n",
       "1          Taylor Swift: …Ready for It? (Live) - SNL   \n",
       "2         Eminem - Walk On Water (Audio) ft. Beyoncé   \n",
       "3  Goals from Salford City vs Class of 92 and Fri...   \n",
       "4  Dashcam captures truck's near miss with child ...   \n",
       "\n",
       "                channel_title  category_id              publish_time  \\\n",
       "0                  John Lewis           26  2017-11-10T07:38:29.000Z   \n",
       "1         Saturday Night Live           24  2017-11-12T06:24:44.000Z   \n",
       "2                  EminemVEVO           10  2017-11-10T17:00:03.000Z   \n",
       "3  Salford City Football Club           17  2017-11-13T02:30:38.000Z   \n",
       "4            Cute Girl Videos           25  2017-11-13T01:45:13.000Z   \n",
       "\n",
       "                                                tags     views   likes  \\\n",
       "0  christmas|\"john lewis christmas\"|\"john lewis\"|...   7224515   55681   \n",
       "1  SNL|\"Saturday Night Live\"|\"SNL Season 43\"|\"Epi...   1053632   25561   \n",
       "2  Eminem|\"Walk\"|\"On\"|\"Water\"|\"Aftermath/Shady/In...  17158579  787420   \n",
       "3  Salford City FC|\"Salford City\"|\"Salford\"|\"Clas...     27833     193   \n",
       "4                                             [none]      9815      30   \n",
       "\n",
       "   dislikes  comment_count                                  thumbnail_link  \\\n",
       "0     10247           9479  https://i.ytimg.com/vi/Jw1Y-zhQURU/default.jpg   \n",
       "1      2294           2757  https://i.ytimg.com/vi/3s1rvMFUweQ/default.jpg   \n",
       "2     43420         125882  https://i.ytimg.com/vi/n1WpP7iowLc/default.jpg   \n",
       "3        12             37  https://i.ytimg.com/vi/PUTEiSjKwJU/default.jpg   \n",
       "4         2             30  https://i.ytimg.com/vi/rHwDegptbI4/default.jpg   \n",
       "\n",
       "   comments_disabled  ratings_disabled  video_error_or_removed  \\\n",
       "0              False             False                   False   \n",
       "1              False             False                   False   \n",
       "2              False             False                   False   \n",
       "3              False             False                   False   \n",
       "4              False             False                   False   \n",
       "\n",
       "                                         description  \n",
       "0  Click here to continue the story and make your...  \n",
       "1  Musical guest Taylor Swift performs …Ready for...  \n",
       "2  Eminem's new track Walk on Water ft. Beyoncé i...  \n",
       "3  Salford drew 4-4 against the Class of 92 and F...  \n",
       "4  Dashcam captures truck's near miss with child ...  "
      ]
     },
     "metadata": {},
     "output_type": "display_data"
    },
    {
     "name": "stdout",
     "output_type": "stream",
     "text": [
      "Index(['video_id', 'trending_date', 'title', 'channel_title', 'category_id',\n",
      "       'publish_time', 'tags', 'views', 'likes', 'dislikes', 'comment_count',\n",
      "       'thumbnail_link', 'comments_disabled', 'ratings_disabled',\n",
      "       'video_error_or_removed', 'description'],\n",
      "      dtype='object')\n"
     ]
    }
   ],
   "source": [
    "gb = pd.read_csv(r'C:\\Users\\polia\\ananahui\\youtube\\GBvideos.csv')\n",
    "display(gb.head())\n",
    "print(gb.columns)"
   ]
  },
  {
   "cell_type": "markdown",
   "metadata": {},
   "source": [
    "###### Сразу же добавим к датасету категории видео, это понадобится нам позже"
   ]
  },
  {
   "cell_type": "code",
   "execution_count": 12,
   "metadata": {},
   "outputs": [],
   "source": [
    "id_to_category = {}\n",
    "with open(\"C:/Users/polia/Downloads/datasets_4549_466349_GB_category_id.json\" , 'r') as f:\n",
    "    data = json.load(f)\n",
    "    for category in data['items']:\n",
    "        id_to_category[category['id']] = category['snippet']['title']\n",
    "gb['category'] = gb['category_id'].map(id_to_category)\n",
    "\n",
    "gb['category_id'] = gb['category_id'].astype(str) # это также поможет нам в дальнейшем"
   ]
  },
  {
   "cell_type": "markdown",
   "metadata": {},
   "source": [
    "###### Для начала исследуем корреляцию между просмотрами и лайками "
   ]
  },
  {
   "cell_type": "code",
   "execution_count": 6,
   "metadata": {},
   "outputs": [
    {
     "data": {
      "text/html": [
       "<div>\n",
       "<style scoped>\n",
       "    .dataframe tbody tr th:only-of-type {\n",
       "        vertical-align: middle;\n",
       "    }\n",
       "\n",
       "    .dataframe tbody tr th {\n",
       "        vertical-align: top;\n",
       "    }\n",
       "\n",
       "    .dataframe thead th {\n",
       "        text-align: right;\n",
       "    }\n",
       "</style>\n",
       "<table border=\"1\" class=\"dataframe\">\n",
       "  <thead>\n",
       "    <tr style=\"text-align: right;\">\n",
       "      <th></th>\n",
       "      <th>views</th>\n",
       "      <th>likes</th>\n",
       "      <th>dislikes</th>\n",
       "    </tr>\n",
       "  </thead>\n",
       "  <tbody>\n",
       "    <tr>\n",
       "      <td>views</td>\n",
       "      <td>1.000000</td>\n",
       "      <td>0.795862</td>\n",
       "      <td>0.392407</td>\n",
       "    </tr>\n",
       "    <tr>\n",
       "      <td>likes</td>\n",
       "      <td>0.795862</td>\n",
       "      <td>1.000000</td>\n",
       "      <td>0.446746</td>\n",
       "    </tr>\n",
       "    <tr>\n",
       "      <td>dislikes</td>\n",
       "      <td>0.392407</td>\n",
       "      <td>0.446746</td>\n",
       "      <td>1.000000</td>\n",
       "    </tr>\n",
       "  </tbody>\n",
       "</table>\n",
       "</div>"
      ],
      "text/plain": [
       "             views     likes  dislikes\n",
       "views     1.000000  0.795862  0.392407\n",
       "likes     0.795862  1.000000  0.446746\n",
       "dislikes  0.392407  0.446746  1.000000"
      ]
     },
     "metadata": {},
     "output_type": "display_data"
    }
   ],
   "source": [
    "# Уменьшим количество колонок, между которыми будем искать корреляции\n",
    "correlation_list = ['views', 'likes', 'dislikes']\n",
    "hm_data = gb[correlation_list].corr() \n",
    "display(hm_data)\n",
    "# Здесь 1 - положительная корреляция, -1 - отрицательная, 0 - ее отсутствие "
   ]
  },
  {
   "cell_type": "code",
   "execution_count": 7,
   "metadata": {},
   "outputs": [
    {
     "data": {
      "text/plain": [
       "<matplotlib.axes._subplots.AxesSubplot at 0x1590d4e4688>"
      ]
     },
     "execution_count": 7,
     "metadata": {},
     "output_type": "execute_result"
    },
    {
     "data": {
      "image/png": "[encoded data removed]",
      "text/plain": [
       "<Figure size 432x288 with 2 Axes>"
      ]
     },
     "metadata": {
      "needs_background": "light"
     },
     "output_type": "display_data"
    }
   ],
   "source": [
    "# Визуализируем полученные данные; здесь чем светлее цвет - тем выше корреляция \n",
    "sns.heatmap(hm_data)"
   ]
  },
  {
   "cell_type": "code",
   "execution_count": 8,
   "metadata": {},
   "outputs": [
    {
     "data": {
      "text/plain": [
       "<seaborn.axisgrid.PairGrid at 0x1590d533288>"
      ]
     },
     "execution_count": 8,
     "metadata": {},
     "output_type": "execute_result"
    },
    {
     "data": {
      "image/png": "[encoded data removed]",
      "text/plain": [
       "<Figure size 360x360 with 6 Axes>"
      ]
     },
     "metadata": {
      "needs_background": "light"
     },
     "output_type": "display_data"
    }
   ],
   "source": [
    "# Построим pairplot\n",
    "sns.pairplot(gb[['views', 'likes']], kind='reg')"
   ]
  },
  {
   "cell_type": "code",
   "execution_count": 9,
   "metadata": {},
   "outputs": [
    {
     "data": {
      "text/plain": [
       "<matplotlib.axes._subplots.AxesSubplot at 0x1590e6161c8>"
      ]
     },
     "execution_count": 9,
     "metadata": {},
     "output_type": "execute_result"
    },
    {
     "data": {
      "image/png": "[encoded data removed]",
      "text/plain": [
       "<Figure size 576x576 with 1 Axes>"
      ]
     },
     "metadata": {
      "needs_background": "light"
     },
     "output_type": "display_data"
    }
   ],
   "source": [
    "# Рассмотрим на scatterplot зависимость лайки/просмотры детальнее\n",
    "plt.figure(figsize=(8,8))\n",
    "sns.scatterplot(x = gb ['views'], y = gb['likes'])"
   ]
  },
  {
   "cell_type": "markdown",
   "metadata": {},
   "source": [
    "###### Посмотрим, какие 10 каналов чаще всего попадали в \"тренды\""
   ]
  },
  {
   "cell_type": "code",
   "execution_count": 10,
   "metadata": {},
   "outputs": [
    {
     "data": {
      "image/png": "[encoded data removed]",
      "text/plain": [
       "<Figure size 432x288 with 1 Axes>"
      ]
     },
     "metadata": {
      "needs_background": "light"
     },
     "output_type": "display_data"
    }
   ],
   "source": [
    "by_channel = gb.groupby([\"channel_title\"]).size().sort_values(ascending = False).head(10)\n",
    "sns.barplot(by_channel.values, by_channel.index.values, palette = \"Dark2\")\n",
    "plt.xlabel(\"Video Count\")\n",
    "plt.show()"
   ]
  },
  {
   "cell_type": "markdown",
   "metadata": {},
   "source": [
    "###### Посмотрим, какие категории чаще всего были в \"трендах\""
   ]
  },
  {
   "cell_type": "code",
   "execution_count": 13,
   "metadata": {},
   "outputs": [
    {
     "data": {
      "image/png": "[encoded data removed]",
      "text/plain": [
       "<Figure size 432x288 with 1 Axes>"
      ]
     },
     "metadata": {
      "needs_background": "light"
     },
     "output_type": "display_data"
    }
   ],
   "source": [
    "by_cat = gb.groupby([\"category\"]).size().sort_values(ascending = False)\n",
    "sns.barplot(by_cat.values, by_cat.index.values, palette = \"Dark2\")\n",
    "plt.xlabel(\"Video Count\")\n",
    "plt.show() "
   ]
  },
  {
   "cell_type": "markdown",
   "metadata": {},
   "source": [
    "###### Объединим два показателя и посмотрим, какие из категорий в \"трендах\" имели больший зрительский успех"
   ]
  },
  {
   "cell_type": "code",
   "execution_count": 14,
   "metadata": {},
   "outputs": [
    {
     "data": {
      "image/png": "[encoded data removed]",
      "text/plain": [
       "<Figure size 432x288 with 1 Axes>"
      ]
     },
     "metadata": {
      "needs_background": "light"
     },
     "output_type": "display_data"
    }
   ],
   "source": [
    "gb[\"ldratio\"] = gb[\"likes\"] / gb[\"dislikes\"] # Добавим новый параметр - отношение лайков к дизлайкам\n",
    "like_category = gb[gb[\"dislikes\"] != 0].groupby(\"category\").mean().sort_values(by = \"ldratio\", ascending = False)\n",
    "sns.barplot(like_category[\"ldratio\"], like_category.index.values, palette = \"Dark2\")\n",
    "plt.xlabel(\"Like to Dislike Ratio\")\n",
    "plt.show()"
   ]
  },
  {
   "cell_type": "markdown",
   "metadata": {},
   "source": [
    "### Теперь перейдем к рассмотрению данных по всем странам вместе"
   ]
  },
  {
   "cell_type": "code",
   "execution_count": 15,
   "metadata": {},
   "outputs": [],
   "source": [
    "ca = pd.read_csv(r'C:\\Users\\polia\\ananahui\\youtube\\CAvideos.csv', usecols=correlation_list) # используем старую переменную, чтобы сразу отсечь ненужные нам колонки\n",
    "de = pd.read_csv(r'C:\\Users\\polia\\ananahui\\youtube\\DEvideos.csv', usecols=correlation_list)\n",
    "fr = pd.read_csv(r'C:\\Users\\polia\\ananahui\\youtube\\FRvideos.csv', usecols=correlation_list)\n",
    "gb = pd.read_csv(r'C:\\Users\\polia\\ananahui\\youtube\\GBvideos.csv', usecols=correlation_list)\n",
    "In = pd.read_csv(r'C:\\Users\\polia\\ananahui\\youtube\\INvideos.csv', usecols=correlation_list)\n",
    "us = pd.read_csv(r'C:\\Users\\polia\\ananahui\\youtube\\GBvideos.csv', usecols=correlation_list)"
   ]
  },
  {
   "cell_type": "code",
   "execution_count": 16,
   "metadata": {},
   "outputs": [],
   "source": [
    "df = [ca, de, fr, gb, In, us]\n",
    "df_names = ['Canada', 'Germany', 'France', 'Great Brittain', 'India', 'United States'] "
   ]
  },
  {
   "cell_type": "markdown",
   "metadata": {},
   "source": [
    "###### Рассмотрим те же зависимости, что и ранее"
   ]
  },
  {
   "cell_type": "code",
   "execution_count": 23,
   "metadata": {},
   "outputs": [
    {
     "name": "stdout",
     "output_type": "stream",
     "text": [
      "Canada\n"
     ]
    },
    {
     "data": {
      "text/html": [
       "<div>\n",
       "<style scoped>\n",
       "    .dataframe tbody tr th:only-of-type {\n",
       "        vertical-align: middle;\n",
       "    }\n",
       "\n",
       "    .dataframe tbody tr th {\n",
       "        vertical-align: top;\n",
       "    }\n",
       "\n",
       "    .dataframe thead th {\n",
       "        text-align: right;\n",
       "    }\n",
       "</style>\n",
       "<table border=\"1\" class=\"dataframe\">\n",
       "  <thead>\n",
       "    <tr style=\"text-align: right;\">\n",
       "      <th></th>\n",
       "      <th>views</th>\n",
       "      <th>likes</th>\n",
       "      <th>dislikes</th>\n",
       "    </tr>\n",
       "  </thead>\n",
       "  <tbody>\n",
       "    <tr>\n",
       "      <td>views</td>\n",
       "      <td>1.000000</td>\n",
       "      <td>0.828964</td>\n",
       "      <td>0.557621</td>\n",
       "    </tr>\n",
       "    <tr>\n",
       "      <td>likes</td>\n",
       "      <td>0.828964</td>\n",
       "      <td>1.000000</td>\n",
       "      <td>0.460427</td>\n",
       "    </tr>\n",
       "    <tr>\n",
       "      <td>dislikes</td>\n",
       "      <td>0.557621</td>\n",
       "      <td>0.460427</td>\n",
       "      <td>1.000000</td>\n",
       "    </tr>\n",
       "  </tbody>\n",
       "</table>\n",
       "</div>"
      ],
      "text/plain": [
       "             views     likes  dislikes\n",
       "views     1.000000  0.828964  0.557621\n",
       "likes     0.828964  1.000000  0.460427\n",
       "dislikes  0.557621  0.460427  1.000000"
      ]
     },
     "metadata": {},
     "output_type": "display_data"
    },
    {
     "name": "stdout",
     "output_type": "stream",
     "text": [
      "Germany\n"
     ]
    },
    {
     "data": {
      "text/html": [
       "<div>\n",
       "<style scoped>\n",
       "    .dataframe tbody tr th:only-of-type {\n",
       "        vertical-align: middle;\n",
       "    }\n",
       "\n",
       "    .dataframe tbody tr th {\n",
       "        vertical-align: top;\n",
       "    }\n",
       "\n",
       "    .dataframe thead th {\n",
       "        text-align: right;\n",
       "    }\n",
       "</style>\n",
       "<table border=\"1\" class=\"dataframe\">\n",
       "  <thead>\n",
       "    <tr style=\"text-align: right;\">\n",
       "      <th></th>\n",
       "      <th>views</th>\n",
       "      <th>likes</th>\n",
       "      <th>dislikes</th>\n",
       "    </tr>\n",
       "  </thead>\n",
       "  <tbody>\n",
       "    <tr>\n",
       "      <td>views</td>\n",
       "      <td>1.000000</td>\n",
       "      <td>0.824189</td>\n",
       "      <td>0.556000</td>\n",
       "    </tr>\n",
       "    <tr>\n",
       "      <td>likes</td>\n",
       "      <td>0.824189</td>\n",
       "      <td>1.000000</td>\n",
       "      <td>0.460208</td>\n",
       "    </tr>\n",
       "    <tr>\n",
       "      <td>dislikes</td>\n",
       "      <td>0.556000</td>\n",
       "      <td>0.460208</td>\n",
       "      <td>1.000000</td>\n",
       "    </tr>\n",
       "  </tbody>\n",
       "</table>\n",
       "</div>"
      ],
      "text/plain": [
       "             views     likes  dislikes\n",
       "views     1.000000  0.824189  0.556000\n",
       "likes     0.824189  1.000000  0.460208\n",
       "dislikes  0.556000  0.460208  1.000000"
      ]
     },
     "metadata": {},
     "output_type": "display_data"
    },
    {
     "name": "stdout",
     "output_type": "stream",
     "text": [
      "France\n"
     ]
    },
    {
     "data": {
      "text/html": [
       "<div>\n",
       "<style scoped>\n",
       "    .dataframe tbody tr th:only-of-type {\n",
       "        vertical-align: middle;\n",
       "    }\n",
       "\n",
       "    .dataframe tbody tr th {\n",
       "        vertical-align: top;\n",
       "    }\n",
       "\n",
       "    .dataframe thead th {\n",
       "        text-align: right;\n",
       "    }\n",
       "</style>\n",
       "<table border=\"1\" class=\"dataframe\">\n",
       "  <thead>\n",
       "    <tr style=\"text-align: right;\">\n",
       "      <th></th>\n",
       "      <th>views</th>\n",
       "      <th>likes</th>\n",
       "      <th>dislikes</th>\n",
       "    </tr>\n",
       "  </thead>\n",
       "  <tbody>\n",
       "    <tr>\n",
       "      <td>views</td>\n",
       "      <td>1.000000</td>\n",
       "      <td>0.812569</td>\n",
       "      <td>0.586997</td>\n",
       "    </tr>\n",
       "    <tr>\n",
       "      <td>likes</td>\n",
       "      <td>0.812569</td>\n",
       "      <td>1.000000</td>\n",
       "      <td>0.450548</td>\n",
       "    </tr>\n",
       "    <tr>\n",
       "      <td>dislikes</td>\n",
       "      <td>0.586997</td>\n",
       "      <td>0.450548</td>\n",
       "      <td>1.000000</td>\n",
       "    </tr>\n",
       "  </tbody>\n",
       "</table>\n",
       "</div>"
      ],
      "text/plain": [
       "             views     likes  dislikes\n",
       "views     1.000000  0.812569  0.586997\n",
       "likes     0.812569  1.000000  0.450548\n",
       "dislikes  0.586997  0.450548  1.000000"
      ]
     },
     "metadata": {},
     "output_type": "display_data"
    },
    {
     "name": "stdout",
     "output_type": "stream",
     "text": [
      "Great Brittain\n"
     ]
    },
    {
     "data": {
      "text/html": [
       "<div>\n",
       "<style scoped>\n",
       "    .dataframe tbody tr th:only-of-type {\n",
       "        vertical-align: middle;\n",
       "    }\n",
       "\n",
       "    .dataframe tbody tr th {\n",
       "        vertical-align: top;\n",
       "    }\n",
       "\n",
       "    .dataframe thead th {\n",
       "        text-align: right;\n",
       "    }\n",
       "</style>\n",
       "<table border=\"1\" class=\"dataframe\">\n",
       "  <thead>\n",
       "    <tr style=\"text-align: right;\">\n",
       "      <th></th>\n",
       "      <th>views</th>\n",
       "      <th>likes</th>\n",
       "      <th>dislikes</th>\n",
       "    </tr>\n",
       "  </thead>\n",
       "  <tbody>\n",
       "    <tr>\n",
       "      <td>views</td>\n",
       "      <td>1.000000</td>\n",
       "      <td>0.795862</td>\n",
       "      <td>0.392407</td>\n",
       "    </tr>\n",
       "    <tr>\n",
       "      <td>likes</td>\n",
       "      <td>0.795862</td>\n",
       "      <td>1.000000</td>\n",
       "      <td>0.446746</td>\n",
       "    </tr>\n",
       "    <tr>\n",
       "      <td>dislikes</td>\n",
       "      <td>0.392407</td>\n",
       "      <td>0.446746</td>\n",
       "      <td>1.000000</td>\n",
       "    </tr>\n",
       "  </tbody>\n",
       "</table>\n",
       "</div>"
      ],
      "text/plain": [
       "             views     likes  dislikes\n",
       "views     1.000000  0.795862  0.392407\n",
       "likes     0.795862  1.000000  0.446746\n",
       "dislikes  0.392407  0.446746  1.000000"
      ]
     },
     "metadata": {},
     "output_type": "display_data"
    },
    {
     "name": "stdout",
     "output_type": "stream",
     "text": [
      "India\n"
     ]
    },
    {
     "data": {
      "text/html": [
       "<div>\n",
       "<style scoped>\n",
       "    .dataframe tbody tr th:only-of-type {\n",
       "        vertical-align: middle;\n",
       "    }\n",
       "\n",
       "    .dataframe tbody tr th {\n",
       "        vertical-align: top;\n",
       "    }\n",
       "\n",
       "    .dataframe thead th {\n",
       "        text-align: right;\n",
       "    }\n",
       "</style>\n",
       "<table border=\"1\" class=\"dataframe\">\n",
       "  <thead>\n",
       "    <tr style=\"text-align: right;\">\n",
       "      <th></th>\n",
       "      <th>views</th>\n",
       "      <th>likes</th>\n",
       "      <th>dislikes</th>\n",
       "    </tr>\n",
       "  </thead>\n",
       "  <tbody>\n",
       "    <tr>\n",
       "      <td>views</td>\n",
       "      <td>1.000000</td>\n",
       "      <td>0.850096</td>\n",
       "      <td>0.543294</td>\n",
       "    </tr>\n",
       "    <tr>\n",
       "      <td>likes</td>\n",
       "      <td>0.850096</td>\n",
       "      <td>1.000000</td>\n",
       "      <td>0.494560</td>\n",
       "    </tr>\n",
       "    <tr>\n",
       "      <td>dislikes</td>\n",
       "      <td>0.543294</td>\n",
       "      <td>0.494560</td>\n",
       "      <td>1.000000</td>\n",
       "    </tr>\n",
       "  </tbody>\n",
       "</table>\n",
       "</div>"
      ],
      "text/plain": [
       "             views     likes  dislikes\n",
       "views     1.000000  0.850096  0.543294\n",
       "likes     0.850096  1.000000  0.494560\n",
       "dislikes  0.543294  0.494560  1.000000"
      ]
     },
     "metadata": {},
     "output_type": "display_data"
    },
    {
     "name": "stdout",
     "output_type": "stream",
     "text": [
      "United States\n"
     ]
    },
    {
     "data": {
      "text/html": [
       "<div>\n",
       "<style scoped>\n",
       "    .dataframe tbody tr th:only-of-type {\n",
       "        vertical-align: middle;\n",
       "    }\n",
       "\n",
       "    .dataframe tbody tr th {\n",
       "        vertical-align: top;\n",
       "    }\n",
       "\n",
       "    .dataframe thead th {\n",
       "        text-align: right;\n",
       "    }\n",
       "</style>\n",
       "<table border=\"1\" class=\"dataframe\">\n",
       "  <thead>\n",
       "    <tr style=\"text-align: right;\">\n",
       "      <th></th>\n",
       "      <th>views</th>\n",
       "      <th>likes</th>\n",
       "      <th>dislikes</th>\n",
       "    </tr>\n",
       "  </thead>\n",
       "  <tbody>\n",
       "    <tr>\n",
       "      <td>views</td>\n",
       "      <td>1.000000</td>\n",
       "      <td>0.795862</td>\n",
       "      <td>0.392407</td>\n",
       "    </tr>\n",
       "    <tr>\n",
       "      <td>likes</td>\n",
       "      <td>0.795862</td>\n",
       "      <td>1.000000</td>\n",
       "      <td>0.446746</td>\n",
       "    </tr>\n",
       "    <tr>\n",
       "      <td>dislikes</td>\n",
       "      <td>0.392407</td>\n",
       "      <td>0.446746</td>\n",
       "      <td>1.000000</td>\n",
       "    </tr>\n",
       "  </tbody>\n",
       "</table>\n",
       "</div>"
      ],
      "text/plain": [
       "             views     likes  dislikes\n",
       "views     1.000000  0.795862  0.392407\n",
       "likes     0.795862  1.000000  0.446746\n",
       "dislikes  0.392407  0.446746  1.000000"
      ]
     },
     "metadata": {},
     "output_type": "display_data"
    }
   ],
   "source": [
    "views = pd.DataFrame(columns=['views', 'likes', 'dislikes'])\n",
    "likes = pd.DataFrame(columns=['views', 'likes', 'dislikes'])\n",
    "\n",
    "count = 0\n",
    "while count != 6:\n",
    "    print(df_names[count])\n",
    "    current_df = df[count]\n",
    "    _x = current_df[correlation_list].corr()\n",
    "    display(_x)\n",
    "    views.loc[count] = _x.loc['views']\n",
    "    likes.loc[count] = _x.loc['likes']\n",
    "    count += 1"
   ]
  },
  {
   "cell_type": "code",
   "execution_count": 24,
   "metadata": {},
   "outputs": [
    {
     "data": {
      "text/html": [
       "<div>\n",
       "<style scoped>\n",
       "    .dataframe tbody tr th:only-of-type {\n",
       "        vertical-align: middle;\n",
       "    }\n",
       "\n",
       "    .dataframe tbody tr th {\n",
       "        vertical-align: top;\n",
       "    }\n",
       "\n",
       "    .dataframe thead th {\n",
       "        text-align: right;\n",
       "    }\n",
       "</style>\n",
       "<table border=\"1\" class=\"dataframe\">\n",
       "  <thead>\n",
       "    <tr style=\"text-align: right;\">\n",
       "      <th></th>\n",
       "      <th>likes</th>\n",
       "      <th>dislikes</th>\n",
       "    </tr>\n",
       "  </thead>\n",
       "  <tbody>\n",
       "    <tr>\n",
       "      <td>Canada</td>\n",
       "      <td>0.828964</td>\n",
       "      <td>0.557621</td>\n",
       "    </tr>\n",
       "    <tr>\n",
       "      <td>Germany</td>\n",
       "      <td>0.824189</td>\n",
       "      <td>0.556000</td>\n",
       "    </tr>\n",
       "    <tr>\n",
       "      <td>France</td>\n",
       "      <td>0.812569</td>\n",
       "      <td>0.586997</td>\n",
       "    </tr>\n",
       "    <tr>\n",
       "      <td>Great Brittain</td>\n",
       "      <td>0.795862</td>\n",
       "      <td>0.392407</td>\n",
       "    </tr>\n",
       "    <tr>\n",
       "      <td>India</td>\n",
       "      <td>0.850096</td>\n",
       "      <td>0.543294</td>\n",
       "    </tr>\n",
       "    <tr>\n",
       "      <td>United States</td>\n",
       "      <td>0.795862</td>\n",
       "      <td>0.392407</td>\n",
       "    </tr>\n",
       "  </tbody>\n",
       "</table>\n",
       "</div>"
      ],
      "text/plain": [
       "                   likes  dislikes\n",
       "Canada          0.828964  0.557621\n",
       "Germany         0.824189  0.556000\n",
       "France          0.812569  0.586997\n",
       "Great Brittain  0.795862  0.392407\n",
       "India           0.850096  0.543294\n",
       "United States   0.795862  0.392407"
      ]
     },
     "metadata": {},
     "output_type": "display_data"
    }
   ],
   "source": [
    "views = views.drop(axis=1, labels='views') # убираем лишнюю колонку\n",
    "views.index = df_names\n",
    "display(views) # Посмотрим на объединенные данные"
   ]
  },
  {
   "cell_type": "code",
   "execution_count": 19,
   "metadata": {},
   "outputs": [
    {
     "data": {
      "text/plain": [
       "<matplotlib.axes._subplots.AxesSubplot at 0x1590d4c6a48>"
      ]
     },
     "execution_count": 19,
     "metadata": {},
     "output_type": "execute_result"
    },
    {
     "data": {
      "image/png": "[encoded data removed]",
      "text/plain": [
       "<Figure size 432x288 with 2 Axes>"
      ]
     },
     "metadata": {
      "needs_background": "light"
     },
     "output_type": "display_data"
    }
   ],
   "source": [
    "sns.heatmap(views)"
   ]
  },
  {
   "cell_type": "code",
   "execution_count": 25,
   "metadata": {},
   "outputs": [
    {
     "data": {
      "text/html": [
       "<div>\n",
       "<style scoped>\n",
       "    .dataframe tbody tr th:only-of-type {\n",
       "        vertical-align: middle;\n",
       "    }\n",
       "\n",
       "    .dataframe tbody tr th {\n",
       "        vertical-align: top;\n",
       "    }\n",
       "\n",
       "    .dataframe thead th {\n",
       "        text-align: right;\n",
       "    }\n",
       "</style>\n",
       "<table border=\"1\" class=\"dataframe\">\n",
       "  <thead>\n",
       "    <tr style=\"text-align: right;\">\n",
       "      <th></th>\n",
       "      <th>views</th>\n",
       "      <th>dislikes</th>\n",
       "    </tr>\n",
       "  </thead>\n",
       "  <tbody>\n",
       "    <tr>\n",
       "      <td>Canada</td>\n",
       "      <td>0.828964</td>\n",
       "      <td>0.460427</td>\n",
       "    </tr>\n",
       "    <tr>\n",
       "      <td>Germany</td>\n",
       "      <td>0.824189</td>\n",
       "      <td>0.460208</td>\n",
       "    </tr>\n",
       "    <tr>\n",
       "      <td>France</td>\n",
       "      <td>0.812569</td>\n",
       "      <td>0.450548</td>\n",
       "    </tr>\n",
       "    <tr>\n",
       "      <td>Great Brittain</td>\n",
       "      <td>0.795862</td>\n",
       "      <td>0.446746</td>\n",
       "    </tr>\n",
       "    <tr>\n",
       "      <td>India</td>\n",
       "      <td>0.850096</td>\n",
       "      <td>0.494560</td>\n",
       "    </tr>\n",
       "    <tr>\n",
       "      <td>United States</td>\n",
       "      <td>0.795862</td>\n",
       "      <td>0.446746</td>\n",
       "    </tr>\n",
       "  </tbody>\n",
       "</table>\n",
       "</div>"
      ],
      "text/plain": [
       "                   views  dislikes\n",
       "Canada          0.828964  0.460427\n",
       "Germany         0.824189  0.460208\n",
       "France          0.812569  0.450548\n",
       "Great Brittain  0.795862  0.446746\n",
       "India           0.850096  0.494560\n",
       "United States   0.795862  0.446746"
      ]
     },
     "metadata": {},
     "output_type": "display_data"
    }
   ],
   "source": [
    "likes = likes.drop(axis=1, labels='likes') # убираем лишнюю колонку\n",
    "likes.index = df_names\n",
    "display(likes) # Посмотрим на объединенные данные"
   ]
  },
  {
   "cell_type": "code",
   "execution_count": 26,
   "metadata": {},
   "outputs": [
    {
     "data": {
      "text/plain": [
       "<matplotlib.axes._subplots.AxesSubplot at 0x1590d3a1e48>"
      ]
     },
     "execution_count": 26,
     "metadata": {},
     "output_type": "execute_result"
    },
    {
     "data": {
      "image/png": "[encoded data removed]",
      "text/plain": [
       "<Figure size 432x288 with 2 Axes>"
      ]
     },
     "metadata": {
      "needs_background": "light"
     },
     "output_type": "display_data"
    }
   ],
   "source": [
    "sns.heatmap(likes)"
   ]
  }
 ],
 "metadata": {
  "kernelspec": {
   "display_name": "Python 3",
   "language": "python",
   "name": "python3"
  },
  "language_info": {
   "codemirror_mode": {
    "name": "ipython",
    "version": 3
   },
   "file_extension": ".py",
   "mimetype": "text/x-python",
   "name": "python",
   "nbconvert_exporter": "python",
   "pygments_lexer": "ipython3",
   "version": "3.7.4"
  }
 },
 "nbformat": 4,
 "nbformat_minor": 2
}
